{
  "nbformat": 4,
  "nbformat_minor": 0,
  "metadata": {
    "colab": {
      "name": "MidPointCircleAlgo.ipynb",
      "provenance": [],
      "collapsed_sections": []
    },
    "kernelspec": {
      "name": "python3",
      "display_name": "Python 3"
    }
  },
  "cells": [
    {
      "cell_type": "code",
      "metadata": {
        "id": "pUAEbPSg8clX"
      },
      "source": [
        "import numpy as np\n",
        "import pandas as pd\n",
        "import math\n",
        "import matplotlib.pyplot as plt"
      ],
      "execution_count": 169,
      "outputs": []
    },
    {
      "cell_type": "code",
      "metadata": {
        "id": "ijz9qKsi2Qy9",
        "colab": {
          "base_uri": "https://localhost:8080/"
        },
        "outputId": "7f823a30-a669-4310-8853-f40a9a5ff9f6"
      },
      "source": [
        "#Algo\n",
        "Data = []\n",
        "r = 10\n",
        "center = [0,0]\n",
        "P = []\n",
        "P.append(math.ceil(5/4-r))\n",
        "X = []\n",
        "X.append(center[0])\n",
        "Y = []\n",
        "Y.append(r)\n",
        "i = 0\n",
        "while X[-1] < Y[-1]:\n",
        "    X.append(X[i]+1)\n",
        "    if P[i] < 0:\n",
        "        Y.append(Y[i])\n",
        "        P.append(P[i] + 2*X[i+1] + 1)\n",
        "    else:\n",
        "        Y.append(Y[i] - 1)\n",
        "        P.append(P[i] + 2*X[i+1] + 1 - 2*Y[i+1])\n",
        "    Data.append([i, P[i], X[i], Y[i], P[i]])\n",
        "    i += 1\n",
        "\n",
        "Data = np.array(Data)\n",
        "tb = pd.DataFrame(data=Data, columns=[\"i\",\"P\", \"X\", \"Y\", \"P+1\"])\n",
        "print(tb)\n",
        "# print(Data)"
      ],
      "execution_count": 172,
      "outputs": [
        {
          "output_type": "stream",
          "text": [
            "   i   P  X   Y  P+1\n",
            "0  0  -8  0  10   -8\n",
            "1  1  -5  1  10   -5\n",
            "2  2   0  2  10    0\n",
            "3  3 -11  3   9  -11\n",
            "4  4  -2  4   9   -2\n",
            "5  5   9  5   9    9\n",
            "6  6   6  6   8    6\n"
          ],
          "name": "stdout"
        }
      ]
    },
    {
      "cell_type": "code",
      "metadata": {
        "id": "kbFKzDbW_ec3",
        "colab": {
          "base_uri": "https://localhost:8080/",
          "height": 513
        },
        "outputId": "2f1d3aae-5195-434c-da9e-3005d0617436"
      },
      "source": [
        "X_cord = [] #to store Quadrant1 cords\n",
        "Y_cord = []\n",
        "for n in Data[:,2]:\n",
        "    X_cord.append(n)\n",
        "for n in np.flipud(Data[:,3]):\n",
        "    X_cord.append(n)\n",
        "\n",
        "for n in Data[:,3]:\n",
        "    Y_cord.append(n)\n",
        "for n in np.flipud(Data[:,2]):\n",
        "    Y_cord.append(n)\n",
        "\n",
        "\n",
        "#Plot\n",
        "q = 2 #resolution quotient\n",
        "fig = plt.figure(figsize=(8,8))\n",
        "ax = fig.add_subplot(1,1,1)\n",
        "ax.set(title='MidPointCircleAlgo',\n",
        "       xlabel='X', ylabel='Y',\n",
        "       xlim=(-q*r, q*r), ylim=(-q*r, q*r))\n",
        "ax.grid(True)\n",
        "ax.grid(color='b', ls = '-.', lw = 0.1)\n",
        "plt.scatter(center[0], center[1], label='Center')\n",
        "plt.plot(X_cord, Y_cord, label='Q1')\n",
        "plt.plot([i * -1 for i in X_cord], Y_cord, label='Q2')\n",
        "plt.plot([i * -1 for i in X_cord], [i * -1 for i in Y_cord], label='Q3')\n",
        "plt.plot(X_cord, [i * -1 for i in Y_cord], label='Q4')\n",
        "\n",
        "plt.legend()\n",
        "plt.show()\n"
      ],
      "execution_count": 173,
      "outputs": [
        {
          "output_type": "display_data",
          "data": {
            "image/png": "[encoded data removed]",
            "text/plain": [
              "<Figure size 576x576 with 1 Axes>"
            ]
          },
          "metadata": {
            "tags": [],
            "needs_background": "light"
          }
        }
      ]
    }
  ]
}